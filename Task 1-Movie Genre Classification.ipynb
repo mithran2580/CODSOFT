{
 "cells": [
  {
   "cell_type": "code",
   "execution_count": null,
   "id": "742254fd",
   "metadata": {},
   "outputs": [
    {
     "name": "stdout",
     "output_type": "stream",
     "text": [
      "Collecting pandas\n",
      "  Downloading pandas-2.3.0-cp313-cp313-win_amd64.whl.metadata (19 kB)\n",
      "Collecting numpy>=1.26.0 (from pandas)\n",
      "  Downloading numpy-2.3.1-cp313-cp313-win_amd64.whl.metadata (60 kB)\n",
      "Requirement already satisfied: python-dateutil>=2.8.2 in c:\\users\\mithran\\appdata\\local\\programs\\python\\python313\\lib\\site-packages (from pandas) (2.9.0.post0)\n",
      "Collecting pytz>=2020.1 (from pandas)\n",
      "  Downloading pytz-2025.2-py2.py3-none-any.whl.metadata (22 kB)\n",
      "Collecting tzdata>=2022.7 (from pandas)\n",
      "  Downloading tzdata-2025.2-py2.py3-none-any.whl.metadata (1.4 kB)\n",
      "Requirement already satisfied: six>=1.5 in c:\\users\\mithran\\appdata\\local\\programs\\python\\python313\\lib\\site-packages (from python-dateutil>=2.8.2->pandas) (1.17.0)\n",
      "Downloading pandas-2.3.0-cp313-cp313-win_amd64.whl (11.0 MB)\n",
      "   ---------------------------------------- 0.0/11.0 MB ? eta -:--:--\n",
      "   -- ------------------------------------- 0.8/11.0 MB 4.8 MB/s eta 0:00:03\n",
      "   ------ --------------------------------- 1.8/11.0 MB 5.0 MB/s eta 0:00:02\n",
      "   ---------- ----------------------------- 2.9/11.0 MB 5.1 MB/s eta 0:00:02\n",
      "   ------------- -------------------------- 3.7/11.0 MB 4.5 MB/s eta 0:00:02\n",
      "   --------------- ------------------------ 4.2/11.0 MB 4.5 MB/s eta 0:00:02\n",
      "   ------------------ --------------------- 5.0/11.0 MB 4.2 MB/s eta 0:00:02\n",
      "   ---------------------- ----------------- 6.3/11.0 MB 4.3 MB/s eta 0:00:02\n",
      "   ------------------------- -------------- 7.1/11.0 MB 4.4 MB/s eta 0:00:01\n",
      "   --------------------------- ------------ 7.6/11.0 MB 4.0 MB/s eta 0:00:01\n",
      "   ------------------------------- -------- 8.7/11.0 MB 4.1 MB/s eta 0:00:01\n",
      "   ----------------------------------- ---- 9.7/11.0 MB 4.2 MB/s eta 0:00:01\n",
      "   -------------------------------------- - 10.5/11.0 MB 4.2 MB/s eta 0:00:01\n",
      "   ---------------------------------------- 11.0/11.0 MB 4.1 MB/s eta 0:00:00\n",
      "Downloading numpy-2.3.1-cp313-cp313-win_amd64.whl (12.7 MB)\n",
      "   ---------------------------------------- 0.0/12.7 MB ? eta -:--:--\n",
      "   --- ------------------------------------ 1.0/12.7 MB 5.5 MB/s eta 0:00:03\n",
      "   ----- ---------------------------------- 1.8/12.7 MB 4.7 MB/s eta 0:00:03\n",
      "   --------- ------------------------------ 2.9/12.7 MB 5.0 MB/s eta 0:00:02\n",
      "   ------------ --------------------------- 3.9/12.7 MB 5.0 MB/s eta 0:00:02\n",
      "   ---------------- ----------------------- 5.2/12.7 MB 5.2 MB/s eta 0:00:02\n",
      "   -------------------- ------------------- 6.6/12.7 MB 5.4 MB/s eta 0:00:02\n",
      "   ------------------------ --------------- 7.9/12.7 MB 5.5 MB/s eta 0:00:01\n",
      "   ---------------------------- ----------- 8.9/12.7 MB 5.4 MB/s eta 0:00:01\n",
      "   ------------------------------ --------- 9.7/12.7 MB 5.4 MB/s eta 0:00:01\n",
      "   ------------------------------ --------- 9.7/12.7 MB 5.4 MB/s eta 0:00:01\n",
      "   -------------------------------- ------- 10.5/12.7 MB 4.6 MB/s eta 0:00:01\n",
      "   ---------------------------------- ----- 11.0/12.7 MB 4.6 MB/s eta 0:00:01\n",
      "   ---------------------------------- ----- 11.0/12.7 MB 4.6 MB/s eta 0:00:01\n",
      "   ---------------------------------- ----- 11.0/12.7 MB 4.6 MB/s eta 0:00:01\n",
      "   ---------------------------------- ----- 11.0/12.7 MB 4.6 MB/s eta 0:00:01\n",
      "   ---------------------------------- ----- 11.0/12.7 MB 4.6 MB/s eta 0:00:01\n",
      "   ------------------------------------- -- 11.8/12.7 MB 3.3 MB/s eta 0:00:01\n",
      "   ---------------------------------------- 12.7/12.7 MB 3.3 MB/s eta 0:00:00\n",
      "Downloading pytz-2025.2-py2.py3-none-any.whl (509 kB)\n",
      "Downloading tzdata-2025.2-py2.py3-none-any.whl (347 kB)\n",
      "Installing collected packages: pytz, tzdata, numpy, pandas\n",
      "Successfully installed numpy-2.3.1 pandas-2.3.0 pytz-2025.2 tzdata-2025.2\n"
     ]
    },
    {
     "name": "stderr",
     "output_type": "stream",
     "text": [
      "\n",
      "[notice] A new release of pip is available: 24.3.1 -> 25.1.1\n",
      "[notice] To update, run: python.exe -m pip install --upgrade pip\n"
     ]
    }
   ],
   "source": []
  },
  {
   "cell_type": "code",
   "execution_count": 39,
   "id": "616ffb4d",
   "metadata": {},
   "outputs": [
    {
     "data": {
      "text/html": [
       "<div>\n",
       "<style scoped>\n",
       "    .dataframe tbody tr th:only-of-type {\n",
       "        vertical-align: middle;\n",
       "    }\n",
       "\n",
       "    .dataframe tbody tr th {\n",
       "        vertical-align: top;\n",
       "    }\n",
       "\n",
       "    .dataframe thead th {\n",
       "        text-align: right;\n",
       "    }\n",
       "</style>\n",
       "<table border=\"1\" class=\"dataframe\">\n",
       "  <thead>\n",
       "    <tr style=\"text-align: right;\">\n",
       "      <th></th>\n",
       "      <th>Train data:</th>\n",
       "    </tr>\n",
       "  </thead>\n",
       "  <tbody>\n",
       "    <tr>\n",
       "      <th>0</th>\n",
       "      <td>ID ::: TITLE ::: GENRE ::: DESCRIPTION</td>\n",
       "    </tr>\n",
       "    <tr>\n",
       "      <th>1</th>\n",
       "      <td>ID ::: TITLE ::: GENRE ::: DESCRIPTION</td>\n",
       "    </tr>\n",
       "    <tr>\n",
       "      <th>2</th>\n",
       "      <td>ID ::: TITLE ::: GENRE ::: DESCRIPTION</td>\n",
       "    </tr>\n",
       "    <tr>\n",
       "      <th>3</th>\n",
       "      <td>ID ::: TITLE ::: GENRE ::: DESCRIPTION</td>\n",
       "    </tr>\n",
       "    <tr>\n",
       "      <th>4</th>\n",
       "      <td>Test data:</td>\n",
       "    </tr>\n",
       "    <tr>\n",
       "      <th>5</th>\n",
       "      <td>ID ::: TITLE ::: DESCRIPTION</td>\n",
       "    </tr>\n",
       "    <tr>\n",
       "      <th>6</th>\n",
       "      <td>ID ::: TITLE ::: DESCRIPTION</td>\n",
       "    </tr>\n",
       "    <tr>\n",
       "      <th>7</th>\n",
       "      <td>ID ::: TITLE ::: DESCRIPTION</td>\n",
       "    </tr>\n",
       "    <tr>\n",
       "      <th>8</th>\n",
       "      <td>ID ::: TITLE ::: DESCRIPTION</td>\n",
       "    </tr>\n",
       "    <tr>\n",
       "      <th>9</th>\n",
       "      <td>Source:</td>\n",
       "    </tr>\n",
       "    <tr>\n",
       "      <th>10</th>\n",
       "      <td>ftp://ftp.fu-berlin.de/pub/misc/movies/database/</td>\n",
       "    </tr>\n",
       "  </tbody>\n",
       "</table>\n",
       "</div>"
      ],
      "text/plain": [
       "                                         Train data:\n",
       "0             ID ::: TITLE ::: GENRE ::: DESCRIPTION\n",
       "1             ID ::: TITLE ::: GENRE ::: DESCRIPTION\n",
       "2             ID ::: TITLE ::: GENRE ::: DESCRIPTION\n",
       "3             ID ::: TITLE ::: GENRE ::: DESCRIPTION\n",
       "4                                         Test data:\n",
       "5                       ID ::: TITLE ::: DESCRIPTION\n",
       "6                       ID ::: TITLE ::: DESCRIPTION\n",
       "7                       ID ::: TITLE ::: DESCRIPTION\n",
       "8                       ID ::: TITLE ::: DESCRIPTION\n",
       "9                                            Source:\n",
       "10  ftp://ftp.fu-berlin.de/pub/misc/movies/database/"
      ]
     },
     "execution_count": 39,
     "metadata": {},
     "output_type": "execute_result"
    }
   ],
   "source": [
    "import pandas as pd\n",
    "\n",
    "data=pd.read_csv(r\"C:\\Users\\Mithran\\Downloads\\Genre Classification Dataset\\description.txt\")\n",
    "data\n"
   ]
  },
  {
   "cell_type": "code",
   "execution_count": 41,
   "id": "913833c7",
   "metadata": {},
   "outputs": [
    {
     "name": "stdout",
     "output_type": "stream",
     "text": [
      "Requirement already satisfied: pandas in c:\\users\\mithran\\appdata\\local\\programs\\python\\python313\\lib\\site-packages (2.3.0)\n",
      "Collecting scikit-learn\n",
      "  Downloading scikit_learn-1.7.0-cp313-cp313-win_amd64.whl.metadata (14 kB)\n",
      "Requirement already satisfied: numpy>=1.26.0 in c:\\users\\mithran\\appdata\\local\\programs\\python\\python313\\lib\\site-packages (from pandas) (2.3.1)\n",
      "Requirement already satisfied: python-dateutil>=2.8.2 in c:\\users\\mithran\\appdata\\local\\programs\\python\\python313\\lib\\site-packages (from pandas) (2.9.0.post0)\n",
      "Requirement already satisfied: pytz>=2020.1 in c:\\users\\mithran\\appdata\\local\\programs\\python\\python313\\lib\\site-packages (from pandas) (2025.2)\n",
      "Requirement already satisfied: tzdata>=2022.7 in c:\\users\\mithran\\appdata\\local\\programs\\python\\python313\\lib\\site-packages (from pandas) (2025.2)\n",
      "Collecting scipy>=1.8.0 (from scikit-learn)\n",
      "  Downloading scipy-1.16.0-cp313-cp313-win_amd64.whl.metadata (60 kB)\n",
      "Collecting joblib>=1.2.0 (from scikit-learn)\n",
      "  Downloading joblib-1.5.1-py3-none-any.whl.metadata (5.6 kB)\n",
      "Collecting threadpoolctl>=3.1.0 (from scikit-learn)\n",
      "  Downloading threadpoolctl-3.6.0-py3-none-any.whl.metadata (13 kB)\n",
      "Requirement already satisfied: six>=1.5 in c:\\users\\mithran\\appdata\\local\\programs\\python\\python313\\lib\\site-packages (from python-dateutil>=2.8.2->pandas) (1.17.0)\n",
      "Downloading scikit_learn-1.7.0-cp313-cp313-win_amd64.whl (10.7 MB)\n",
      "   ---------------------------------------- 0.0/10.7 MB ? eta -:--:--\n",
      "   -- ------------------------------------- 0.8/10.7 MB 4.9 MB/s eta 0:00:02\n",
      "   ---- ----------------------------------- 1.3/10.7 MB 3.5 MB/s eta 0:00:03\n",
      "   ------- -------------------------------- 2.1/10.7 MB 3.3 MB/s eta 0:00:03\n",
      "   -------- ------------------------------- 2.4/10.7 MB 3.0 MB/s eta 0:00:03\n",
      "   ------------ --------------------------- 3.4/10.7 MB 3.3 MB/s eta 0:00:03\n",
      "   ----------------- ---------------------- 4.7/10.7 MB 3.7 MB/s eta 0:00:02\n",
      "   --------------------- ------------------ 5.8/10.7 MB 4.0 MB/s eta 0:00:02\n",
      "   -------------------------- ------------- 7.1/10.7 MB 4.3 MB/s eta 0:00:01\n",
      "   ------------------------------ --------- 8.1/10.7 MB 4.4 MB/s eta 0:00:01\n",
      "   ----------------------------------- ---- 9.4/10.7 MB 4.6 MB/s eta 0:00:01\n",
      "   ---------------------------------------  10.5/10.7 MB 4.7 MB/s eta 0:00:01\n",
      "   ---------------------------------------  10.5/10.7 MB 4.7 MB/s eta 0:00:01\n",
      "   ---------------------------------------  10.5/10.7 MB 4.7 MB/s eta 0:00:01\n",
      "   ---------------------------------------  10.5/10.7 MB 4.7 MB/s eta 0:00:01\n",
      "   ---------------------------------------  10.5/10.7 MB 4.7 MB/s eta 0:00:01\n",
      "   ---------------------------------------- 10.7/10.7 MB 3.2 MB/s eta 0:00:00\n",
      "Downloading joblib-1.5.1-py3-none-any.whl (307 kB)\n",
      "Downloading scipy-1.16.0-cp313-cp313-win_amd64.whl (38.4 MB)\n",
      "   ---------------------------------------- 0.0/38.4 MB ? eta -:--:--\n",
      "   - -------------------------------------- 1.0/38.4 MB 5.2 MB/s eta 0:00:08\n",
      "   -- ------------------------------------- 2.4/38.4 MB 5.7 MB/s eta 0:00:07\n",
      "   --- ------------------------------------ 3.7/38.4 MB 6.0 MB/s eta 0:00:06\n",
      "   ---- ----------------------------------- 4.7/38.4 MB 5.9 MB/s eta 0:00:06\n",
      "   ------ --------------------------------- 6.0/38.4 MB 5.9 MB/s eta 0:00:06\n",
      "   ------- -------------------------------- 6.8/38.4 MB 5.6 MB/s eta 0:00:06\n",
      "   -------- ------------------------------- 7.9/38.4 MB 5.6 MB/s eta 0:00:06\n",
      "   --------- ------------------------------ 8.9/38.4 MB 5.5 MB/s eta 0:00:06\n",
      "   ---------- ----------------------------- 10.0/38.4 MB 5.3 MB/s eta 0:00:06\n",
      "   ----------- ---------------------------- 11.0/38.4 MB 5.4 MB/s eta 0:00:06\n",
      "   ------------ --------------------------- 12.3/38.4 MB 5.4 MB/s eta 0:00:05\n",
      "   ------------- -------------------------- 13.4/38.4 MB 5.4 MB/s eta 0:00:05\n",
      "   --------------- ------------------------ 14.4/38.4 MB 5.4 MB/s eta 0:00:05\n",
      "   ---------------- ----------------------- 15.7/38.4 MB 5.4 MB/s eta 0:00:05\n",
      "   ----------------- ---------------------- 16.8/38.4 MB 5.4 MB/s eta 0:00:05\n",
      "   ------------------ --------------------- 18.1/38.4 MB 5.4 MB/s eta 0:00:04\n",
      "   ------------------- -------------------- 19.1/38.4 MB 5.4 MB/s eta 0:00:04\n",
      "   --------------------- ------------------ 20.2/38.4 MB 5.3 MB/s eta 0:00:04\n",
      "   --------------------- ------------------ 21.0/38.4 MB 5.3 MB/s eta 0:00:04\n",
      "   ---------------------- ----------------- 22.0/38.4 MB 5.3 MB/s eta 0:00:04\n",
      "   ------------------------ --------------- 23.3/38.4 MB 5.3 MB/s eta 0:00:03\n",
      "   ------------------------- -------------- 24.6/38.4 MB 5.3 MB/s eta 0:00:03\n",
      "   -------------------------- ------------- 25.4/38.4 MB 5.3 MB/s eta 0:00:03\n",
      "   --------------------------- ------------ 26.5/38.4 MB 5.2 MB/s eta 0:00:03\n",
      "   ---------------------------- ----------- 27.3/38.4 MB 5.2 MB/s eta 0:00:03\n",
      "   ---------------------------- ----------- 27.3/38.4 MB 5.2 MB/s eta 0:00:03\n",
      "   ---------------------------- ----------- 27.3/38.4 MB 5.2 MB/s eta 0:00:03\n",
      "   ---------------------------- ----------- 27.3/38.4 MB 5.2 MB/s eta 0:00:03\n",
      "   ---------------------------- ----------- 27.3/38.4 MB 5.2 MB/s eta 0:00:03\n",
      "   ---------------------------- ----------- 27.3/38.4 MB 5.2 MB/s eta 0:00:03\n",
      "   ---------------------------- ----------- 27.3/38.4 MB 5.2 MB/s eta 0:00:03\n",
      "   ---------------------------- ----------- 27.3/38.4 MB 5.2 MB/s eta 0:00:03\n",
      "   ---------------------------- ----------- 27.3/38.4 MB 5.2 MB/s eta 0:00:03\n",
      "   ---------------------------- ----------- 27.3/38.4 MB 5.2 MB/s eta 0:00:03\n",
      "   ---------------------------- ----------- 27.3/38.4 MB 5.2 MB/s eta 0:00:03\n",
      "   ---------------------------- ----------- 27.3/38.4 MB 5.2 MB/s eta 0:00:03\n",
      "   ---------------------------- ----------- 27.3/38.4 MB 5.2 MB/s eta 0:00:03\n",
      "   ---------------------------- ----------- 27.3/38.4 MB 5.2 MB/s eta 0:00:03\n",
      "   ---------------------------- ----------- 27.3/38.4 MB 5.2 MB/s eta 0:00:03\n",
      "   ---------------------------- ----------- 27.3/38.4 MB 5.2 MB/s eta 0:00:03\n",
      "   ---------------------------- ----------- 27.5/38.4 MB 3.2 MB/s eta 0:00:04\n",
      "   ---------------------------- ----------- 27.5/38.4 MB 3.2 MB/s eta 0:00:04\n",
      "   ----------------------------- ---------- 28.0/38.4 MB 3.1 MB/s eta 0:00:04\n",
      "   ------------------------------ --------- 28.8/38.4 MB 3.1 MB/s eta 0:00:04\n",
      "   ------------------------------- -------- 30.1/38.4 MB 3.2 MB/s eta 0:00:03\n",
      "   -------------------------------- ------- 31.2/38.4 MB 3.2 MB/s eta 0:00:03\n",
      "   --------------------------------- ------ 32.2/38.4 MB 3.2 MB/s eta 0:00:02\n",
      "   ---------------------------------- ----- 33.3/38.4 MB 3.3 MB/s eta 0:00:02\n",
      "   ----------------------------------- ---- 34.3/38.4 MB 3.3 MB/s eta 0:00:02\n",
      "   ------------------------------------ --- 35.4/38.4 MB 3.3 MB/s eta 0:00:01\n",
      "   ------------------------------------- -- 36.4/38.4 MB 3.4 MB/s eta 0:00:01\n",
      "   ---------------------------------------  37.5/38.4 MB 3.4 MB/s eta 0:00:01\n",
      "   ---------------------------------------  38.3/38.4 MB 3.4 MB/s eta 0:00:01\n",
      "   ---------------------------------------  38.3/38.4 MB 3.4 MB/s eta 0:00:01\n",
      "   ---------------------------------------  38.3/38.4 MB 3.4 MB/s eta 0:00:01\n",
      "   ---------------------------------------- 38.4/38.4 MB 3.3 MB/s eta 0:00:00\n",
      "Downloading threadpoolctl-3.6.0-py3-none-any.whl (18 kB)\n",
      "Installing collected packages: threadpoolctl, scipy, joblib, scikit-learn\n",
      "Successfully installed joblib-1.5.1 scikit-learn-1.7.0 scipy-1.16.0 threadpoolctl-3.6.0\n",
      "Note: you may need to restart the kernel to use updated packages.\n"
     ]
    },
    {
     "name": "stderr",
     "output_type": "stream",
     "text": [
      "\n",
      "[notice] A new release of pip is available: 24.3.1 -> 25.1.1\n",
      "[notice] To update, run: python.exe -m pip install --upgrade pip\n"
     ]
    }
   ],
   "source": [
    "pip install pandas scikit-learn\n"
   ]
  },
  {
   "cell_type": "code",
   "execution_count": null,
   "id": "50fd3383",
   "metadata": {},
   "outputs": [
    {
     "ename": "ParserError",
     "evalue": "Error tokenizing data. C error: Expected 10 fields in line 4, saw 16\n",
     "output_type": "error",
     "traceback": [
      "\u001b[1;31m---------------------------------------------------------------------------\u001b[0m",
      "\u001b[1;31mParserError\u001b[0m                               Traceback (most recent call last)",
      "Cell \u001b[1;32mIn[9], line 3\u001b[0m\n\u001b[0;32m      1\u001b[0m \u001b[38;5;28;01mfrom\u001b[39;00m \u001b[38;5;21;01msklearn\u001b[39;00m\u001b[38;5;21;01m.\u001b[39;00m\u001b[38;5;21;01mmodel_selection\u001b[39;00m \u001b[38;5;28;01mimport\u001b[39;00m train_test_split\n\u001b[0;32m      2\u001b[0m \u001b[38;5;28;01mimport\u001b[39;00m \u001b[38;5;21;01mpandas\u001b[39;00m \u001b[38;5;28;01mas\u001b[39;00m \u001b[38;5;21;01mpd\u001b[39;00m\n\u001b[1;32m----> 3\u001b[0m train_data \u001b[38;5;241m=\u001b[39m \u001b[43mpd\u001b[49m\u001b[38;5;241;43m.\u001b[39;49m\u001b[43mread_csv\u001b[49m\u001b[43m(\u001b[49m\u001b[38;5;124;43mr\u001b[39;49m\u001b[38;5;124;43m\"\u001b[39;49m\u001b[38;5;124;43mC:\u001b[39;49m\u001b[38;5;124;43m\\\u001b[39;49m\u001b[38;5;124;43mUsers\u001b[39;49m\u001b[38;5;124;43m\\\u001b[39;49m\u001b[38;5;124;43mMithran\u001b[39;49m\u001b[38;5;124;43m\\\u001b[39;49m\u001b[38;5;124;43mDownloads\u001b[39;49m\u001b[38;5;124;43m\\\u001b[39;49m\u001b[38;5;124;43mGenre Classification Dataset\u001b[39;49m\u001b[38;5;124;43m\\\u001b[39;49m\u001b[38;5;124;43mtrain_data.txt\u001b[39;49m\u001b[38;5;124;43m\"\u001b[39;49m\u001b[43m)\u001b[49m\n\u001b[0;32m      4\u001b[0m test_labels \u001b[38;5;241m=\u001b[39m pd\u001b[38;5;241m.\u001b[39mread_csv(\u001b[38;5;124mr\u001b[39m\u001b[38;5;124m\"\u001b[39m\u001b[38;5;124mC:\u001b[39m\u001b[38;5;124m\\\u001b[39m\u001b[38;5;124mUsers\u001b[39m\u001b[38;5;124m\\\u001b[39m\u001b[38;5;124mMithran\u001b[39m\u001b[38;5;124m\\\u001b[39m\u001b[38;5;124mDownloads\u001b[39m\u001b[38;5;124m\\\u001b[39m\u001b[38;5;124mGenre Classification Dataset\u001b[39m\u001b[38;5;124m\\\u001b[39m\u001b[38;5;124mtest_data_solution.txt\u001b[39m\u001b[38;5;124m\"\u001b[39m)\n\u001b[0;32m      5\u001b[0m test_data \u001b[38;5;241m=\u001b[39m pd\u001b[38;5;241m.\u001b[39mread_csv(\u001b[38;5;124mr\u001b[39m\u001b[38;5;124m\"\u001b[39m\u001b[38;5;124mC:\u001b[39m\u001b[38;5;124m\\\u001b[39m\u001b[38;5;124mUsers\u001b[39m\u001b[38;5;124m\\\u001b[39m\u001b[38;5;124mMithran\u001b[39m\u001b[38;5;124m\\\u001b[39m\u001b[38;5;124mDownloads\u001b[39m\u001b[38;5;124m\\\u001b[39m\u001b[38;5;124mNew folder.csv\u001b[39m\u001b[38;5;124m\\\u001b[39m\u001b[38;5;124marchive\u001b[39m\u001b[38;5;124m\\\u001b[39m\u001b[38;5;124mGenre Classification Dataset\u001b[39m\u001b[38;5;124m\\\u001b[39m\u001b[38;5;124mtest_data.txt\u001b[39m\u001b[38;5;124m\"\u001b[39m)\n",
      "File \u001b[1;32mc:\\Users\\Mithran\\AppData\\Local\\Programs\\Python\\Python313\\Lib\\site-packages\\pandas\\io\\parsers\\readers.py:1026\u001b[0m, in \u001b[0;36mread_csv\u001b[1;34m(filepath_or_buffer, sep, delimiter, header, names, index_col, usecols, dtype, engine, converters, true_values, false_values, skipinitialspace, skiprows, skipfooter, nrows, na_values, keep_default_na, na_filter, verbose, skip_blank_lines, parse_dates, infer_datetime_format, keep_date_col, date_parser, date_format, dayfirst, cache_dates, iterator, chunksize, compression, thousands, decimal, lineterminator, quotechar, quoting, doublequote, escapechar, comment, encoding, encoding_errors, dialect, on_bad_lines, delim_whitespace, low_memory, memory_map, float_precision, storage_options, dtype_backend)\u001b[0m\n\u001b[0;32m   1013\u001b[0m kwds_defaults \u001b[38;5;241m=\u001b[39m _refine_defaults_read(\n\u001b[0;32m   1014\u001b[0m     dialect,\n\u001b[0;32m   1015\u001b[0m     delimiter,\n\u001b[1;32m   (...)\u001b[0m\n\u001b[0;32m   1022\u001b[0m     dtype_backend\u001b[38;5;241m=\u001b[39mdtype_backend,\n\u001b[0;32m   1023\u001b[0m )\n\u001b[0;32m   1024\u001b[0m kwds\u001b[38;5;241m.\u001b[39mupdate(kwds_defaults)\n\u001b[1;32m-> 1026\u001b[0m \u001b[38;5;28;01mreturn\u001b[39;00m \u001b[43m_read\u001b[49m\u001b[43m(\u001b[49m\u001b[43mfilepath_or_buffer\u001b[49m\u001b[43m,\u001b[49m\u001b[43m \u001b[49m\u001b[43mkwds\u001b[49m\u001b[43m)\u001b[49m\n",
      "File \u001b[1;32mc:\\Users\\Mithran\\AppData\\Local\\Programs\\Python\\Python313\\Lib\\site-packages\\pandas\\io\\parsers\\readers.py:626\u001b[0m, in \u001b[0;36m_read\u001b[1;34m(filepath_or_buffer, kwds)\u001b[0m\n\u001b[0;32m    623\u001b[0m     \u001b[38;5;28;01mreturn\u001b[39;00m parser\n\u001b[0;32m    625\u001b[0m \u001b[38;5;28;01mwith\u001b[39;00m parser:\n\u001b[1;32m--> 626\u001b[0m     \u001b[38;5;28;01mreturn\u001b[39;00m \u001b[43mparser\u001b[49m\u001b[38;5;241;43m.\u001b[39;49m\u001b[43mread\u001b[49m\u001b[43m(\u001b[49m\u001b[43mnrows\u001b[49m\u001b[43m)\u001b[49m\n",
      "File \u001b[1;32mc:\\Users\\Mithran\\AppData\\Local\\Programs\\Python\\Python313\\Lib\\site-packages\\pandas\\io\\parsers\\readers.py:1923\u001b[0m, in \u001b[0;36mTextFileReader.read\u001b[1;34m(self, nrows)\u001b[0m\n\u001b[0;32m   1916\u001b[0m nrows \u001b[38;5;241m=\u001b[39m validate_integer(\u001b[38;5;124m\"\u001b[39m\u001b[38;5;124mnrows\u001b[39m\u001b[38;5;124m\"\u001b[39m, nrows)\n\u001b[0;32m   1917\u001b[0m \u001b[38;5;28;01mtry\u001b[39;00m:\n\u001b[0;32m   1918\u001b[0m     \u001b[38;5;66;03m# error: \"ParserBase\" has no attribute \"read\"\u001b[39;00m\n\u001b[0;32m   1919\u001b[0m     (\n\u001b[0;32m   1920\u001b[0m         index,\n\u001b[0;32m   1921\u001b[0m         columns,\n\u001b[0;32m   1922\u001b[0m         col_dict,\n\u001b[1;32m-> 1923\u001b[0m     ) \u001b[38;5;241m=\u001b[39m \u001b[38;5;28;43mself\u001b[39;49m\u001b[38;5;241;43m.\u001b[39;49m\u001b[43m_engine\u001b[49m\u001b[38;5;241;43m.\u001b[39;49m\u001b[43mread\u001b[49m\u001b[43m(\u001b[49m\u001b[43m  \u001b[49m\u001b[38;5;66;43;03m# type: ignore[attr-defined]\u001b[39;49;00m\n\u001b[0;32m   1924\u001b[0m \u001b[43m        \u001b[49m\u001b[43mnrows\u001b[49m\n\u001b[0;32m   1925\u001b[0m \u001b[43m    \u001b[49m\u001b[43m)\u001b[49m\n\u001b[0;32m   1926\u001b[0m \u001b[38;5;28;01mexcept\u001b[39;00m \u001b[38;5;167;01mException\u001b[39;00m:\n\u001b[0;32m   1927\u001b[0m     \u001b[38;5;28mself\u001b[39m\u001b[38;5;241m.\u001b[39mclose()\n",
      "File \u001b[1;32mc:\\Users\\Mithran\\AppData\\Local\\Programs\\Python\\Python313\\Lib\\site-packages\\pandas\\io\\parsers\\c_parser_wrapper.py:234\u001b[0m, in \u001b[0;36mCParserWrapper.read\u001b[1;34m(self, nrows)\u001b[0m\n\u001b[0;32m    232\u001b[0m \u001b[38;5;28;01mtry\u001b[39;00m:\n\u001b[0;32m    233\u001b[0m     \u001b[38;5;28;01mif\u001b[39;00m \u001b[38;5;28mself\u001b[39m\u001b[38;5;241m.\u001b[39mlow_memory:\n\u001b[1;32m--> 234\u001b[0m         chunks \u001b[38;5;241m=\u001b[39m \u001b[38;5;28;43mself\u001b[39;49m\u001b[38;5;241;43m.\u001b[39;49m\u001b[43m_reader\u001b[49m\u001b[38;5;241;43m.\u001b[39;49m\u001b[43mread_low_memory\u001b[49m\u001b[43m(\u001b[49m\u001b[43mnrows\u001b[49m\u001b[43m)\u001b[49m\n\u001b[0;32m    235\u001b[0m         \u001b[38;5;66;03m# destructive to chunks\u001b[39;00m\n\u001b[0;32m    236\u001b[0m         data \u001b[38;5;241m=\u001b[39m _concatenate_chunks(chunks)\n",
      "File \u001b[1;32mpandas/_libs/parsers.pyx:838\u001b[0m, in \u001b[0;36mpandas._libs.parsers.TextReader.read_low_memory\u001b[1;34m()\u001b[0m\n",
      "File \u001b[1;32mpandas/_libs/parsers.pyx:905\u001b[0m, in \u001b[0;36mpandas._libs.parsers.TextReader._read_rows\u001b[1;34m()\u001b[0m\n",
      "File \u001b[1;32mpandas/_libs/parsers.pyx:874\u001b[0m, in \u001b[0;36mpandas._libs.parsers.TextReader._tokenize_rows\u001b[1;34m()\u001b[0m\n",
      "File \u001b[1;32mpandas/_libs/parsers.pyx:891\u001b[0m, in \u001b[0;36mpandas._libs.parsers.TextReader._check_tokenize_status\u001b[1;34m()\u001b[0m\n",
      "File \u001b[1;32mpandas/_libs/parsers.pyx:2061\u001b[0m, in \u001b[0;36mpandas._libs.parsers.raise_parser_error\u001b[1;34m()\u001b[0m\n",
      "\u001b[1;31mParserError\u001b[0m: Error tokenizing data. C error: Expected 10 fields in line 4, saw 16\n"
     ]
    }
   ],
   "source": [
    "\n",
    "import pandas as pd\n",
    "train_data = pd.read_csv(r\"C:\\Users\\Mithran\\Downloads\\Genre Classification Dataset\\train_data.txt\")\n",
    "test_labels = pd.read_csv(r\"C:\\Users\\Mithran\\Downloads\\Genre Classification Dataset\\test_data_solution.txt\")\n",
    "test_data = pd.read_csv(r\"C:\\Users\\Mithran\\Downloads\\New folder.csv\\archive\\Genre Classification Dataset\\test_data.txt\")from sklearn.model_selection import train_test_split"
   ]
  },
  {
   "cell_type": "code",
   "execution_count": 12,
   "id": "fc0e4df2",
   "metadata": {},
   "outputs": [],
   "source": [
    "from sklearn.model_selection import train_test_split\n",
    "train = pd.read_csv(r\"C:\\Users\\Mithran\\Downloads\\Genre Classification Dataset\\train_data.txt\", sep=' ::: ', engine='python', names=['ID', 'Title', 'Genre', 'Plot'])\n",
    "\n",
    "\n",
    "test = pd.read_csv(r\"C:\\Users\\Mithran\\Downloads\\New folder.csv\\archive\\Genre Classification Dataset\\test_data.txt\", sep=' ::: ', engine='python', names=['ID', 'Title', 'Plot'])\n",
    "\n",
    "\n",
    "test_sol = pd.read_csv(r\"C:\\Users\\Mithran\\Downloads\\Genre Classification Dataset\\test_data_solution.txt\", sep=' ::: ', engine='python', names=['ID', 'Title', 'Genre', 'Plot'])\n"
   ]
  },
  {
   "cell_type": "code",
   "execution_count": 13,
   "id": "59122b0c",
   "metadata": {},
   "outputs": [
    {
     "name": "stderr",
     "output_type": "stream",
     "text": [
      "C:\\Users\\Mithran\\AppData\\Local\\Temp\\ipykernel_33696\\4012095398.py:1: FutureWarning: A value is trying to be set on a copy of a DataFrame or Series through chained assignment using an inplace method.\n",
      "The behavior will change in pandas 3.0. This inplace method will never work because the intermediate object on which we are setting values always behaves as a copy.\n",
      "\n",
      "For example, when doing 'df[col].method(value, inplace=True)', try using 'df.method({col: value}, inplace=True)' or df[col] = df[col].method(value) instead, to perform the operation inplace on the original object.\n",
      "\n",
      "\n",
      "  train['Plot'].fillna('', inplace=True)\n",
      "C:\\Users\\Mithran\\AppData\\Local\\Temp\\ipykernel_33696\\4012095398.py:2: FutureWarning: A value is trying to be set on a copy of a DataFrame or Series through chained assignment using an inplace method.\n",
      "The behavior will change in pandas 3.0. This inplace method will never work because the intermediate object on which we are setting values always behaves as a copy.\n",
      "\n",
      "For example, when doing 'df[col].method(value, inplace=True)', try using 'df.method({col: value}, inplace=True)' or df[col] = df[col].method(value) instead, to perform the operation inplace on the original object.\n",
      "\n",
      "\n",
      "  test['Plot'].fillna('', inplace=True)\n"
     ]
    }
   ],
   "source": [
    "train['Plot'].fillna('', inplace=True)\n",
    "test['Plot'].fillna('', inplace=True)"
   ]
  },
  {
   "cell_type": "code",
   "execution_count": 14,
   "id": "1f5b0f3d",
   "metadata": {},
   "outputs": [],
   "source": [
    "train['Plot'] = train['Plot'].str.lower()\n",
    "test['Plot'] = test['Plot'].str.lower()"
   ]
  },
  {
   "cell_type": "code",
   "execution_count": 15,
   "id": "8384918c",
   "metadata": {},
   "outputs": [],
   "source": [
    "from sklearn.feature_extraction.text import TfidfVectorizer"
   ]
  },
  {
   "cell_type": "code",
   "execution_count": 17,
   "id": "1591707c",
   "metadata": {},
   "outputs": [
    {
     "data": {
      "text/html": [
       "<div>\n",
       "<style scoped>\n",
       "    .dataframe tbody tr th:only-of-type {\n",
       "        vertical-align: middle;\n",
       "    }\n",
       "\n",
       "    .dataframe tbody tr th {\n",
       "        vertical-align: top;\n",
       "    }\n",
       "\n",
       "    .dataframe thead th {\n",
       "        text-align: right;\n",
       "    }\n",
       "</style>\n",
       "<table border=\"1\" class=\"dataframe\">\n",
       "  <thead>\n",
       "    <tr style=\"text-align: right;\">\n",
       "      <th></th>\n",
       "      <th>ID</th>\n",
       "      <th>Title</th>\n",
       "      <th>Plot</th>\n",
       "    </tr>\n",
       "  </thead>\n",
       "  <tbody>\n",
       "    <tr>\n",
       "      <th>0</th>\n",
       "      <td>1</td>\n",
       "      <td>Edgar's Lunch (1998)</td>\n",
       "      <td>l.r. brane loves his life - his car, his apart...</td>\n",
       "    </tr>\n",
       "    <tr>\n",
       "      <th>1</th>\n",
       "      <td>2</td>\n",
       "      <td>La guerra de papá (1977)</td>\n",
       "      <td>spain, march 1964: quico is a very naughty chi...</td>\n",
       "    </tr>\n",
       "    <tr>\n",
       "      <th>2</th>\n",
       "      <td>3</td>\n",
       "      <td>Off the Beaten Track (2010)</td>\n",
       "      <td>one year in the life of albin and his family o...</td>\n",
       "    </tr>\n",
       "    <tr>\n",
       "      <th>3</th>\n",
       "      <td>4</td>\n",
       "      <td>Meu Amigo Hindu (2015)</td>\n",
       "      <td>his father has died, he hasn't spoken with his...</td>\n",
       "    </tr>\n",
       "    <tr>\n",
       "      <th>4</th>\n",
       "      <td>5</td>\n",
       "      <td>Er nu zhai (1955)</td>\n",
       "      <td>before he was known internationally as a marti...</td>\n",
       "    </tr>\n",
       "  </tbody>\n",
       "</table>\n",
       "</div>"
      ],
      "text/plain": [
       "   ID                        Title  \\\n",
       "0   1         Edgar's Lunch (1998)   \n",
       "1   2     La guerra de papá (1977)   \n",
       "2   3  Off the Beaten Track (2010)   \n",
       "3   4       Meu Amigo Hindu (2015)   \n",
       "4   5            Er nu zhai (1955)   \n",
       "\n",
       "                                                Plot  \n",
       "0  l.r. brane loves his life - his car, his apart...  \n",
       "1  spain, march 1964: quico is a very naughty chi...  \n",
       "2  one year in the life of albin and his family o...  \n",
       "3  his father has died, he hasn't spoken with his...  \n",
       "4  before he was known internationally as a marti...  "
      ]
     },
     "metadata": {},
     "output_type": "display_data"
    },
    {
     "name": "stdout",
     "output_type": "stream",
     "text": [
      "None\n",
      "(54200, 3)\n"
     ]
    }
   ],
   "source": [
    "print(display(test.head()))\n",
    "print(test.shape)"
   ]
  },
  {
   "cell_type": "code",
   "execution_count": 21,
   "id": "d3ac6efb",
   "metadata": {},
   "outputs": [
    {
     "data": {
      "text/html": [
       "<div>\n",
       "<style scoped>\n",
       "    .dataframe tbody tr th:only-of-type {\n",
       "        vertical-align: middle;\n",
       "    }\n",
       "\n",
       "    .dataframe tbody tr th {\n",
       "        vertical-align: top;\n",
       "    }\n",
       "\n",
       "    .dataframe thead th {\n",
       "        text-align: right;\n",
       "    }\n",
       "</style>\n",
       "<table border=\"1\" class=\"dataframe\">\n",
       "  <thead>\n",
       "    <tr style=\"text-align: right;\">\n",
       "      <th></th>\n",
       "      <th>ID</th>\n",
       "      <th>Title</th>\n",
       "      <th>Genre</th>\n",
       "      <th>Plot</th>\n",
       "    </tr>\n",
       "  </thead>\n",
       "  <tbody>\n",
       "    <tr>\n",
       "      <th>0</th>\n",
       "      <td>1</td>\n",
       "      <td>Edgar's Lunch (1998)</td>\n",
       "      <td>thriller</td>\n",
       "      <td>L.R. Brane loves his life - his car, his apart...</td>\n",
       "    </tr>\n",
       "    <tr>\n",
       "      <th>1</th>\n",
       "      <td>2</td>\n",
       "      <td>La guerra de papá (1977)</td>\n",
       "      <td>comedy</td>\n",
       "      <td>Spain, March 1964: Quico is a very naughty chi...</td>\n",
       "    </tr>\n",
       "    <tr>\n",
       "      <th>2</th>\n",
       "      <td>3</td>\n",
       "      <td>Off the Beaten Track (2010)</td>\n",
       "      <td>documentary</td>\n",
       "      <td>One year in the life of Albin and his family o...</td>\n",
       "    </tr>\n",
       "    <tr>\n",
       "      <th>3</th>\n",
       "      <td>4</td>\n",
       "      <td>Meu Amigo Hindu (2015)</td>\n",
       "      <td>drama</td>\n",
       "      <td>His father has died, he hasn't spoken with his...</td>\n",
       "    </tr>\n",
       "    <tr>\n",
       "      <th>4</th>\n",
       "      <td>5</td>\n",
       "      <td>Er nu zhai (1955)</td>\n",
       "      <td>drama</td>\n",
       "      <td>Before he was known internationally as a marti...</td>\n",
       "    </tr>\n",
       "  </tbody>\n",
       "</table>\n",
       "</div>"
      ],
      "text/plain": [
       "   ID                        Title        Genre  \\\n",
       "0   1         Edgar's Lunch (1998)     thriller   \n",
       "1   2     La guerra de papá (1977)       comedy   \n",
       "2   3  Off the Beaten Track (2010)  documentary   \n",
       "3   4       Meu Amigo Hindu (2015)        drama   \n",
       "4   5            Er nu zhai (1955)        drama   \n",
       "\n",
       "                                                Plot  \n",
       "0  L.R. Brane loves his life - his car, his apart...  \n",
       "1  Spain, March 1964: Quico is a very naughty chi...  \n",
       "2  One year in the life of Albin and his family o...  \n",
       "3  His father has died, he hasn't spoken with his...  \n",
       "4  Before he was known internationally as a marti...  "
      ]
     },
     "metadata": {},
     "output_type": "display_data"
    },
    {
     "name": "stdout",
     "output_type": "stream",
     "text": [
      "None\n"
     ]
    }
   ],
   "source": [
    "print(display(test_sol.head()))"
   ]
  },
  {
   "cell_type": "code",
   "execution_count": 22,
   "id": "5ec69bdb",
   "metadata": {},
   "outputs": [],
   "source": [
    "tfidf = TfidfVectorizer(max_features=10000, stop_words='english')\n",
    "X_train = tfidf.fit_transform(train['Plot'])\n",
    "X_test = tfidf.transform(test['Plot'])"
   ]
  },
  {
   "cell_type": "code",
   "execution_count": 23,
   "id": "c7e5d604",
   "metadata": {},
   "outputs": [],
   "source": [
    "from sklearn.preprocessing import LabelEncoder"
   ]
  },
  {
   "cell_type": "code",
   "execution_count": null,
   "id": "657019df",
   "metadata": {},
   "outputs": [],
   "source": [
    "labeler = LabelEncoder()\n",
    "y_train = labeler.fit_transform(train['Genre'])\n",
    "y_test_sol = labeler.transform(test_sol['Genre']) "
   ]
  },
  {
   "cell_type": "code",
   "execution_count": 30,
   "id": "814512ce",
   "metadata": {},
   "outputs": [],
   "source": [
    "\n",
    "from sklearn.model_selection import train_test_split"
   ]
  },
  {
   "cell_type": "code",
   "execution_count": 32,
   "id": "227c01a9",
   "metadata": {},
   "outputs": [
    {
     "name": "stdout",
     "output_type": "stream",
     "text": [
      "Validation Accuracy: 0.5670017522825787\n",
      "Validation Report:\n",
      "               precision    recall  f1-score   support\n",
      "\n",
      "      action       0.42      0.34      0.38       263\n",
      "       adult       0.68      0.46      0.55       112\n",
      "   adventure       0.38      0.24      0.29       139\n",
      "   animation       0.37      0.17      0.24       104\n",
      "   biography       0.00      0.00      0.00        61\n",
      "      comedy       0.52      0.57      0.54      1443\n",
      "       crime       0.23      0.07      0.11       107\n",
      " documentary       0.69      0.79      0.74      2659\n",
      "       drama       0.56      0.69      0.62      2697\n",
      "      family       0.30      0.15      0.20       150\n",
      "     fantasy       0.13      0.03      0.04        74\n",
      "   game-show       0.76      0.65      0.70        40\n",
      "     history       0.00      0.00      0.00        45\n",
      "      horror       0.62      0.64      0.63       431\n",
      "       music       0.55      0.53      0.54       144\n",
      "     musical       0.12      0.02      0.03        50\n",
      "     mystery       0.09      0.02      0.03        56\n",
      "        news       0.33      0.09      0.14        34\n",
      "  reality-tv       0.43      0.26      0.32       192\n",
      "     romance       0.29      0.07      0.11       151\n",
      "      sci-fi       0.44      0.28      0.34       143\n",
      "       short       0.39      0.35      0.37      1045\n",
      "       sport       0.66      0.42      0.51        93\n",
      "   talk-show       0.46      0.21      0.29        81\n",
      "    thriller       0.28      0.18      0.22       309\n",
      "         war       0.33      0.05      0.09        20\n",
      "     western       0.84      0.79      0.81       200\n",
      "\n",
      "    accuracy                           0.57     10843\n",
      "   macro avg       0.40      0.30      0.33     10843\n",
      "weighted avg       0.54      0.57      0.54     10843\n",
      "\n"
     ]
    }
   ],
   "source": [
    "X_tr, X_val, y_tr, y_val = train_test_split(X_train, y_train, test_size=0.2, random_state=42)\n",
    "from sklearn.svm import LinearSVC\n",
    "model = LinearSVC()\n",
    "model.fit(X_tr, y_tr)\n",
    "from sklearn.metrics import accuracy_score, classification_report\n",
    "y_val_pred = model.predict(X_val)\n",
    "print(\"Validation Accuracy:\", accuracy_score(y_val, y_val_pred))\n",
    "print(\"Validation Report:\\n\", classification_report(y_val, y_val_pred, target_names=labeler.classes_))\n"
   ]
  },
  {
   "cell_type": "code",
   "execution_count": 36,
   "id": "c399d97b",
   "metadata": {},
   "outputs": [
    {
     "name": "stdout",
     "output_type": "stream",
     "text": [
      "Test Accuracy: 0.5662546125461254\n",
      "Test Report:\n",
      "               precision    recall  f1-score   support\n",
      "\n",
      "      action       0.40      0.32      0.35      1314\n",
      "       adult       0.58      0.37      0.45       590\n",
      "   adventure       0.41      0.22      0.29       775\n",
      "   animation       0.34      0.14      0.20       498\n",
      "   biography       0.00      0.00      0.00       264\n",
      "      comedy       0.52      0.57      0.54      7446\n",
      "       crime       0.28      0.08      0.13       505\n",
      " documentary       0.69      0.80      0.74     13096\n",
      "       drama       0.56      0.70      0.62     13612\n",
      "      family       0.30      0.14      0.19       783\n",
      "     fantasy       0.22      0.06      0.10       322\n",
      "   game-show       0.76      0.60      0.67       193\n",
      "     history       0.13      0.01      0.02       243\n",
      "      horror       0.59      0.61      0.60      2204\n",
      "       music       0.59      0.49      0.54       731\n",
      "     musical       0.25      0.07      0.11       276\n",
      "     mystery       0.18      0.03      0.06       318\n",
      "        news       0.52      0.14      0.22       181\n",
      "  reality-tv       0.42      0.24      0.31       883\n",
      "     romance       0.23      0.07      0.10       672\n",
      "      sci-fi       0.44      0.30      0.36       646\n",
      "       short       0.39      0.33      0.36      5072\n",
      "       sport       0.57      0.39      0.46       431\n",
      "   talk-show       0.49      0.26      0.34       391\n",
      "    thriller       0.28      0.17      0.21      1590\n",
      "         war       0.53      0.14      0.23       132\n",
      "     western       0.84      0.82      0.83      1032\n",
      "\n",
      "    accuracy                           0.57     54200\n",
      "   macro avg       0.43      0.30      0.33     54200\n",
      "weighted avg       0.54      0.57      0.54     54200\n",
      "\n"
     ]
    }
   ],
   "source": [
    "y_test_pred = model.predict(X_test)\n",
    "\n",
    "print(\"Test Accuracy:\", accuracy_score(y_test_sol, y_test_pred))\n",
    "print(\"Test Report:\\n\", classification_report(y_test_sol, y_test_pred, target_names=labeler.classes_))\n"
   ]
  },
  {
   "cell_type": "code",
   "execution_count": 38,
   "id": "9e61cc9e",
   "metadata": {},
   "outputs": [
    {
     "name": "stdout",
     "output_type": "stream",
     "text": [
      "action\n",
      "romance\n"
     ]
    }
   ],
   "source": [
    "def predict_genre(plot_text):\n",
    "    tfidf_input = tfidf.transform([plot_text.lower()])\n",
    "    pred = model.predict(tfidf_input)\n",
    "    return labeler.inverse_transform(pred)[0]\n",
    "\n",
    "# Try sample predictions\n",
    "print(predict_genre(\"A spy uncovers a secret plot to destroy a city\"))\n",
    "print(predict_genre(\"A couple falls in love during a global pandemic\"))\n"
   ]
  },
  {
   "cell_type": "code",
   "execution_count": 1,
   "id": "3a541f51",
   "metadata": {},
   "outputs": [
    {
     "ename": "NameError",
     "evalue": "name 'sample_result' is not defined",
     "output_type": "error",
     "traceback": [
      "\u001b[1;31m---------------------------------------------------------------------------\u001b[0m",
      "\u001b[1;31mNameError\u001b[0m                                 Traceback (most recent call last)",
      "Cell \u001b[1;32mIn[1], line 1\u001b[0m\n\u001b[1;32m----> 1\u001b[0m \u001b[43msample_result\u001b[49m\u001b[38;5;241m.\u001b[39mto_csv(\u001b[38;5;124m\"\u001b[39m\u001b[38;5;124mgenre_results.csv\u001b[39m\u001b[38;5;124m\"\u001b[39m, index\u001b[38;5;241m=\u001b[39m\u001b[38;5;28;01mFalse\u001b[39;00m)\n",
      "\u001b[1;31mNameError\u001b[0m: name 'sample_result' is not defined"
     ]
    }
   ],
   "source": [
    "sample_result.to_csv(\"genre_results.csv\", index=False)\n"
   ]
  }
 ],
 "metadata": {
  "kernelspec": {
   "display_name": "Python 3",
   "language": "python",
   "name": "python3"
  },
  "language_info": {
   "codemirror_mode": {
    "name": "ipython",
    "version": 3
   },
   "file_extension": ".py",
   "mimetype": "text/x-python",
   "name": "python",
   "nbconvert_exporter": "python",
   "pygments_lexer": "ipython3",
   "version": "3.13.1"
  }
 },
 "nbformat": 4,
 "nbformat_minor": 5
}
